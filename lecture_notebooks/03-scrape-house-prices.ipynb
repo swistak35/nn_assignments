{
 "cells": [
  {
   "cell_type": "code",
   "execution_count": 1,
   "metadata": {
    "collapsed": true
   },
   "outputs": [],
   "source": [
    "import bs4\n",
    "import urllib\n",
    "import re\n",
    "import pandas as pd\n",
    "import time"
   ]
  },
  {
   "cell_type": "code",
   "execution_count": 2,
   "metadata": {
    "collapsed": false
   },
   "outputs": [
    {
     "name": "stdout",
     "output_type": "stream",
     "text": [
      "On page: 0\n"
     ]
    },
    {
     "name": "stderr",
     "output_type": "stream",
     "text": [
      "/pio/os/anaconda/lib/python2.7/site-packages/bs4/__init__.py:166: UserWarning: No parser was explicitly specified, so I'm using the best available HTML parser for this system (\"lxml\"). This usually isn't a problem, but if you run this code on another system, or in a different virtual environment, it may use a different parser and behave differently.\n",
      "\n",
      "To get rid of this warning, change this:\n",
      "\n",
      " BeautifulSoup([your markup])\n",
      "\n",
      "to this:\n",
      "\n",
      " BeautifulSoup([your markup], \"lxml\")\n",
      "\n",
      "  markup_type=markup_type))\n"
     ]
    },
    {
     "name": "stdout",
     "output_type": "stream",
     "text": [
      "On page: 50\n",
      "On page: 100\n",
      "On page: 150\n",
      "On page: 200\n",
      "On page: 250\n",
      "On page: 300\n"
     ]
    }
   ],
   "source": [
    "query = 'http://www.oferty.net/mieszkania/szukaj?ps[type]=1&ps[location][type]=1&ps[location][text_queue][]=Wroc%C5%82aw&ps[transaction]=1&ps[date_filter]=0&ps[sort_order]=rank_asc'\n",
    "\n",
    "class_filter = lambda x: x and 'property' in x.split()\n",
    "attr_defs = [('cell_rooms', int), \n",
    "             ('cell_area', lambda x: float(re.match('([0-9,]+) m.*', x).groups()[0].replace(',','.'))), \n",
    "             ('cell_price', lambda x: float(re.match('([0-9 ]+) PLN', x).groups()[0].replace(' ',''))/1e3)\n",
    "            ]\n",
    "\n",
    "scraped = []\n",
    "\n",
    "for page_num in xrange(350):\n",
    "    if (page_num % 50)==0:\n",
    "        print 'On page: %d' %(page_num)\n",
    "    \n",
    "    sock = urllib.urlopen('%s&page=%d' % (query ,page_num+1))\n",
    "    html_data = sock.read()\n",
    "    sock.close()\n",
    "    \n",
    "    soup = bs4.BeautifulSoup(html_data)\n",
    "    \n",
    "    for data_row in soup.find_all('tr', class_=class_filter):\n",
    "        attrs = []\n",
    "        try:\n",
    "            for attr_name, attr_conv in attr_defs:\n",
    "                attr_data = data_row.find(\"td\", class_=attr_name).text.strip() \n",
    "                attrs.append(attr_conv(attr_data))\n",
    "            scraped.append(attrs)\n",
    "        except:\n",
    "            pass\n",
    "    \n",
    "    time.sleep(1)\n",
    "        \n",
    "house_prices = pd.DataFrame(scraped, columns=[n[5:] for (n,c) in attr_defs])"
   ]
  },
  {
   "cell_type": "code",
   "execution_count": 3,
   "metadata": {
    "collapsed": true
   },
   "outputs": [],
   "source": [
    "house_prices.to_csv('03-house-prices.csv')"
   ]
  },
  {
   "cell_type": "code",
   "execution_count": null,
   "metadata": {
    "collapsed": true
   },
   "outputs": [],
   "source": []
  }
 ],
 "metadata": {
  "kernelspec": {
   "display_name": "Python 2",
   "language": "python",
   "name": "python2"
  },
  "language_info": {
   "codemirror_mode": {
    "name": "ipython",
    "version": 2
   },
   "file_extension": ".py",
   "mimetype": "text/x-python",
   "name": "python",
   "nbconvert_exporter": "python",
   "pygments_lexer": "ipython2",
   "version": "2.7.11"
  }
 },
 "nbformat": 4,
 "nbformat_minor": 0
}
