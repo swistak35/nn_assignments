{
 "cells": [
  {
   "cell_type": "code",
   "execution_count": null,
   "metadata": {
    "collapsed": false
   },
   "outputs": [],
   "source": []
  },
  {
   "cell_type": "code",
   "execution_count": 1,
   "metadata": {
    "collapsed": false
   },
   "outputs": [
    {
     "name": "stdout",
     "output_type": "stream",
     "text": [
      "Done.\n"
     ]
    }
   ],
   "source": [
    "import numpy as np\n",
    "import json\n",
    "import string\n",
    "import dateutil.parser\n",
    "from bs4 import BeautifulSoup\n",
    "\n",
    "events_file_name = \"../datasets/events1.json\"\n",
    "\n",
    "categories = [\n",
    "    'music',\n",
    "    'food',\n",
    "    'entertainment',\n",
    "    'nightlife',\n",
    "    'theatre',\n",
    "    'arts',\n",
    "    'sports',\n",
    "    'outdoors',\n",
    "    'conferences',\n",
    "    'courses',\n",
    "    'charity',\n",
    "#     'other_stuff',\n",
    "    'attraction',\n",
    "    'exhibition',\n",
    "    'talks',\n",
    "]\n",
    "\n",
    "def cleanup_text(text):\n",
    "    new_text = text.lower()\n",
    "    new_text = BeautifulSoup(text, \"lxml\").get_text()\n",
    "    new_text = ''.join(c for c in new_text if c not in string.punctuation)\n",
    "    new_text = ''.join(c for c in new_text if c not in '0123456789')\n",
    "    new_text = ' '.join(new_text.split())\n",
    "    return new_text\n",
    "\n",
    "def get_yday(date):\n",
    "    return date.timetuple().tm_yday\n",
    "\n",
    "events = []\n",
    "with open(events_file_name, 'r') as reader:\n",
    "    for line in reader:\n",
    "        event = json.loads(line, encoding = 'utf-8')\n",
    "        category = event['category']\n",
    "        created_at = dateutil.parser.parse(event['created_at'])\n",
    "        starts_at = dateutil.parser.parse(event['starts_at'])\n",
    "        ends_at = dateutil.parser.parse(event['ends_at'])\n",
    "        tt_prices = [float(tt['price']) for tt in event['ticket_types_info']]\n",
    "        tt_quantities = [float(tt['quantity']) for tt in event['ticket_types_info']]\n",
    "        tt_types = [tt['type'] for tt in event['ticket_types_info']]\n",
    "        \n",
    "        if category in categories and event['state'] != 'draft':\n",
    "            events.append({\n",
    "                'description': cleanup_text(event['description']),\n",
    "                'category': categories.index(event['category']),\n",
    "                'seating_enabled': event['seating_enabled'],\n",
    "                'public': event['public'],\n",
    "                'seats': event['seats'],\n",
    "                'created_at_yday': get_yday(created_at),\n",
    "                'created_at_wday': created_at.weekday(),\n",
    "                'starts_at_yday': get_yday(starts_at),\n",
    "                'starts_at_wday': starts_at.weekday(),\n",
    "                'ends_at_yday': get_yday(ends_at),\n",
    "                'ends_at_wday': ends_at.weekday(),\n",
    "                'max_tt_price': (0.0 if tt_prices == [] else np.max(tt_prices)),\n",
    "                'min_tt_price': (0.0 if tt_prices == [] else np.min(tt_prices)),\n",
    "                'avg_tt_price': (0.0 if tt_prices == [] else np.mean(tt_prices)),\n",
    "                'sum_quantities': np.sum(tt_quantities),\n",
    "                'days_span': (ends_at - starts_at).days,\n",
    "                'ticket_types_count': len(tt_types),\n",
    "                'pay_ticket_types_count': np.sum([typ == 'PayTicketType' for typ in tt_types]),\n",
    "                'free_ticket_types_count': np.sum([typ == 'FreeTicketType' for typ in tt_types]),\n",
    "                'attendance_ticket_types_count': np.sum([typ == 'AttendanceTicketType' for typ in tt_types]),\n",
    "                'donation_ticket_types_count': np.sum([typ == 'DonationTicketType' for typ in tt_types]),\n",
    "            })\n",
    "            \n",
    "        if len(events) > 10000:\n",
    "            break\n",
    "\n",
    "print('Done.')"
   ]
  },
  {
   "cell_type": "code",
   "execution_count": 418,
   "metadata": {
    "collapsed": false
   },
   "outputs": [],
   "source": [
    "# How to represent cyclic input?\n",
    "#   For example, how to represent that 31.21 is close to 01.01? Or we should leave it to NN?"
   ]
  },
  {
   "cell_type": "code",
   "execution_count": 3,
   "metadata": {
    "collapsed": false
   },
   "outputs": [],
   "source": [
    "raw_texts = [e['description'] for e in events]"
   ]
  },
  {
   "cell_type": "code",
   "execution_count": 137,
   "metadata": {
    "collapsed": false
   },
   "outputs": [],
   "source": []
  },
  {
   "cell_type": "code",
   "execution_count": 25,
   "metadata": {
    "collapsed": false
   },
   "outputs": [],
   "source": [
    "import nltk\n",
    "from sklearn.feature_extraction.text import TfidfVectorizer\n",
    "\n",
    "# nltk.download() # needs 'punkt' package\n",
    "\n",
    "max_features = 500\n",
    "\n",
    "def tokenizer(text):\n",
    "    words = nltk.word_tokenize(text)\n",
    "    return words\n",
    "\n",
    "# Create TF-IDF of texts\n",
    "tfidf = TfidfVectorizer(tokenizer=tokenizer, stop_words=None, max_features=max_features)\n",
    "sparse_tfidf_texts = tfidf.fit_transform(raw_texts)"
   ]
  },
  {
   "cell_type": "code",
   "execution_count": 26,
   "metadata": {
    "collapsed": false
   },
   "outputs": [],
   "source": [
    "attr_public = np.nan_to_num(np.array([e['public'] for e in events], dtype=np.float32)).reshape(-1, 1)\n",
    "\n",
    "attr_seating_enabled = np.array([e['seating_enabled'] for e in events], dtype = np.float32).reshape(-1, 1)\n",
    "\n",
    "attr_seats = np.nan_to_num(np.ma.log(np.array([e['seats'] for e in events], dtype = np.float32))).filled(0).reshape(-1, 1)\n",
    "if np.max(attr_seats) > 0.0:\n",
    "    attr_seats = attr_seats / np.max(attr_seats)\n",
    "\n",
    "attr_created_at_yday = np.array([e['created_at_yday'] for e in events], dtype = np.float32).reshape(-1, 1)\n",
    "attr_created_at_yday = attr_created_at_yday / np.max(attr_created_at_yday)\n",
    "\n",
    "attr_created_at_wday = np.array([e['created_at_wday'] for e in events], dtype = np.float32).reshape(-1, 1)\n",
    "attr_created_at_wday = attr_created_at_wday / np.max(attr_created_at_wday)\n",
    "\n",
    "attr_starts_at_yday = np.array([e['starts_at_yday'] for e in events], dtype = np.float32).reshape(-1, 1)\n",
    "attr_starts_at_yday = attr_starts_at_yday / np.max(attr_starts_at_yday)\n",
    "\n",
    "attr_starts_at_wday = np.array([e['starts_at_wday'] for e in events], dtype = np.float32).reshape(-1, 1)\n",
    "attr_starts_at_wday = attr_starts_at_wday / np.max(attr_starts_at_wday)\n",
    "\n",
    "attr_ends_at_yday = np.array([e['ends_at_yday'] for e in events], dtype = np.float32).reshape(-1, 1)\n",
    "attr_ends_at_yday = attr_ends_at_yday / np.max(attr_ends_at_yday)\n",
    "\n",
    "attr_ends_at_wday = np.array([e['ends_at_wday'] for e in events], dtype = np.float32).reshape(-1, 1)\n",
    "attr_ends_at_wday = attr_ends_at_wday / np.max(attr_ends_at_wday)\n",
    "\n",
    "attr_max_tt_price = np.array([e['max_tt_price'] for e in events], dtype = np.float32).reshape(-1, 1)\n",
    "attr_max_tt_price = attr_max_tt_price / np.max(attr_max_tt_price)\n",
    "\n",
    "attr_min_tt_price = np.array([e['min_tt_price'] for e in events], dtype = np.float32).reshape(-1, 1)\n",
    "attr_min_tt_price = attr_min_tt_price / np.max(attr_min_tt_price)\n",
    "\n",
    "attr_avg_tt_price = np.array([e['avg_tt_price'] for e in events], dtype = np.float32).reshape(-1, 1)\n",
    "attr_avg_tt_price = attr_avg_tt_price / np.max(attr_avg_tt_price)\n",
    "\n",
    "attr_sum_quantities = np.array([e['sum_quantities'] for e in events], dtype = np.float32).reshape(-1, 1)\n",
    "attr_sum_quantities = attr_sum_quantities / np.max(attr_sum_quantities)\n",
    "\n",
    "attr_days_span = np.array([e['days_span'] for e in events], dtype = np.float32).reshape(-1, 1)\n",
    "attr_days_span = attr_days_span / np.max(attr_days_span)\n",
    "\n",
    "attr_ticket_types_count = np.array([e['ticket_types_count'] for e in events], dtype = np.float32).reshape(-1, 1)\n",
    "attr_ticket_types_count = attr_ticket_types_count / np.max(attr_ticket_types_count)\n",
    "\n",
    "attr_pay_ticket_types_count = np.array([e['pay_ticket_types_count'] for e in events], dtype = np.float32).reshape(-1, 1)\n",
    "attr_pay_ticket_types_count = attr_pay_ticket_types_count / np.max(attr_pay_ticket_types_count)\n",
    "\n",
    "attr_free_ticket_types_count = np.array([e['free_ticket_types_count'] for e in events], dtype = np.float32).reshape(-1, 1)\n",
    "attr_free_ticket_types_count = attr_free_ticket_types_count / np.max(attr_free_ticket_types_count)\n",
    "\n",
    "attr_attendance_ticket_types_count = np.array([e['attendance_ticket_types_count'] for e in events], dtype = np.float32).reshape(-1, 1)\n",
    "attr_attendance_ticket_types_count = attr_attendance_ticket_types_count / np.max(attr_attendance_ticket_types_count)\n",
    "\n",
    "attr_donation_ticket_types_count = np.array([e['donation_ticket_types_count'] for e in events], dtype = np.float32).reshape(-1, 1)\n",
    "attr_donation_ticket_types_count = attr_donation_ticket_types_count / np.max(attr_donation_ticket_types_count)"
   ]
  },
  {
   "cell_type": "code",
   "execution_count": 27,
   "metadata": {
    "collapsed": false
   },
   "outputs": [
    {
     "name": "stdout",
     "output_type": "stream",
     "text": [
      "(10001, 519)\n",
      "(10001,)\n"
     ]
    },
    {
     "data": {
      "text/plain": [
       "89298.943336961092"
      ]
     },
     "execution_count": 27,
     "metadata": {},
     "output_type": "execute_result"
    }
   ],
   "source": [
    "features = np.hstack([\n",
    "    sparse_tfidf_texts.todense(),\n",
    "    np.nan_to_num(attr_public),\n",
    "    attr_seating_enabled,\n",
    "    attr_seats,\n",
    "    attr_created_at_yday,\n",
    "    attr_created_at_wday,\n",
    "    attr_starts_at_yday,\n",
    "    attr_starts_at_wday,\n",
    "    attr_ends_at_yday,\n",
    "    attr_ends_at_wday,\n",
    "    attr_max_tt_price,\n",
    "    attr_min_tt_price,\n",
    "    attr_avg_tt_price,\n",
    "    attr_sum_quantities,\n",
    "    attr_days_span,\n",
    "    attr_ticket_types_count,\n",
    "    attr_pay_ticket_types_count,\n",
    "    attr_free_ticket_types_count,\n",
    "    attr_attendance_ticket_types_count,\n",
    "    attr_donation_ticket_types_count,\n",
    "])\n",
    "print(features.shape)\n",
    "\n",
    "target = np.array([e['category'] for e in events])\n",
    "print(target.shape)\n",
    "\n",
    "np.sum(features)"
   ]
  },
  {
   "cell_type": "code",
   "execution_count": null,
   "metadata": {
    "collapsed": false
   },
   "outputs": [],
   "source": []
  },
  {
   "cell_type": "code",
   "execution_count": 28,
   "metadata": {
    "collapsed": false
   },
   "outputs": [],
   "source": [
    "import numpy as np\n",
    "\n",
    "num_samples, num_features = features.shape\n",
    "\n",
    "train_indices = np.random.choice(num_samples, int(0.8*num_samples), replace=False)\n",
    "test_indices = np.array(list(set(range(num_samples)) - set(train_indices)))\n",
    "\n",
    "features_train = features[train_indices]\n",
    "features_test = features[test_indices]\n",
    "\n",
    "target_train = np.array([x for ix, x in enumerate(target) if ix in train_indices])\n",
    "target_test = np.array([x for ix, x in enumerate(target) if ix in test_indices])"
   ]
  },
  {
   "cell_type": "code",
   "execution_count": null,
   "metadata": {
    "collapsed": false
   },
   "outputs": [],
   "source": []
  },
  {
   "cell_type": "code",
   "execution_count": 34,
   "metadata": {
    "collapsed": false
   },
   "outputs": [
    {
     "name": "stdout",
     "output_type": "stream",
     "text": [
      "Generation # 500. Train Loss (Test Loss): 2.45 (2.39). Train Acc (Test Acc): 0.18 (0.24)\n",
      "Generation # 1000. Train Loss (Test Loss): 2.30 (2.32). Train Acc (Test Acc): 0.25 (0.24)\n",
      "Generation # 1500. Train Loss (Test Loss): 2.28 (2.29). Train Acc (Test Acc): 0.28 (0.24)\n",
      "Generation # 2000. Train Loss (Test Loss): 2.24 (2.28). Train Acc (Test Acc): 0.28 (0.24)\n",
      "Generation # 2500. Train Loss (Test Loss): 2.27 (2.27). Train Acc (Test Acc): 0.28 (0.24)\n",
      "Generation # 3000. Train Loss (Test Loss): 2.27 (2.27). Train Acc (Test Acc): 0.24 (0.24)\n",
      "Done.\n"
     ]
    }
   ],
   "source": [
    "import tensorflow as tf\n",
    "import time\n",
    "import os.path\n",
    "import math\n",
    "from tensorflow.python.framework import ops\n",
    "ops.reset_default_graph()   \n",
    "\n",
    "NUM_CLASSES = len(categories)\n",
    "batch_size = 200\n",
    "num_hidden1 = 500\n",
    "\n",
    "log_dir = \"./log\"\n",
    "\n",
    "if tf.gfile.Exists(log_dir):\n",
    "    tf.gfile.DeleteRecursively(log_dir)\n",
    "tf.gfile.MakeDirs(log_dir)\n",
    "\n",
    "with tf.Graph().as_default():\n",
    "    x_data = tf.placeholder(shape=[None, num_features], dtype=tf.float32)\n",
    "    y_target = tf.placeholder(tf.int32, shape=(None))\n",
    "\n",
    "    with tf.name_scope('hidden1'):\n",
    "        weights1 = tf.Variable(\n",
    "            tf.truncated_normal([num_features, num_hidden1],\n",
    "                            stddev=1.0 / math.sqrt(float(num_features))),\n",
    "                            name='weights')\n",
    "        biases1 = tf.Variable(tf.zeros([num_hidden1]),\n",
    "                             name='biases')\n",
    "        hidden1 = tf.matmul(x_data, weights1) + biases1\n",
    "\n",
    "    with tf.name_scope('softmax_linear'):\n",
    "        weights_sm = tf.Variable(\n",
    "            tf.truncated_normal([num_hidden1, NUM_CLASSES],\n",
    "                            stddev=1.0 / math.sqrt(float(num_hidden1))),\n",
    "                            name='weights')\n",
    "        biases_sm = tf.Variable(tf.zeros([NUM_CLASSES]),\n",
    "                             name='biases')\n",
    "        logits = tf.matmul(hidden1, weights_sm) + biases_sm\n",
    "\n",
    "    cross_entropy = tf.nn.sparse_softmax_cross_entropy_with_logits(\n",
    "        labels=y_target,\n",
    "        logits=logits,\n",
    "        name='xentropy')\n",
    "    loss = tf.reduce_mean(cross_entropy, name='xentropy_mean')\n",
    "\n",
    "    tf.summary.scalar('loss', loss)\n",
    "    \n",
    "    optimizer = tf.train.GradientDescentOptimizer(0.0025)\n",
    "    global_step = tf.Variable(0, name='global_step', trainable=False)\n",
    "    train_op = optimizer.minimize(loss, global_step=global_step)\n",
    "\n",
    "    prediction = tf.nn.in_top_k(logits, y_target, 1)\n",
    "    predictions_correct = tf.cast(prediction, tf.float32)\n",
    "    accuracy = tf.reduce_mean(predictions_correct)\n",
    "    \n",
    "    tf.summary.scalar('accuracy', accuracy)\n",
    "\n",
    "    summary = tf.summary.merge_all()\n",
    "    \n",
    "    # Create a saver for writing training checkpoints.\n",
    "    saver = tf.train.Saver()\n",
    "    \n",
    "    sess = tf.Session()\n",
    "    \n",
    "    # Instantiate a SummaryWriter to output summaries and the Graph.\n",
    "    summary_writer = tf.summary.FileWriter(log_dir, sess.graph)\n",
    "    \n",
    "    init = tf.global_variables_initializer()\n",
    "\n",
    "    sess.run(init)\n",
    "\n",
    "    train_loss = []\n",
    "    test_loss = []\n",
    "    train_acc = []\n",
    "    test_acc = []\n",
    "    i_data = []\n",
    "    for i in range(3000):\n",
    "        rand_index = np.random.choice(features_train.shape[0], size=batch_size)\n",
    "        rand_x = features_train[rand_index]\n",
    "        rand_y = np.transpose([target_train[rand_index]]).ravel()\n",
    "        feed_dict = {\n",
    "            x_data: rand_x,\n",
    "            y_target: rand_y\n",
    "        }\n",
    "        \n",
    "        start_time = time.time()\n",
    "\n",
    "        sess.run([train_op, loss], feed_dict=feed_dict)\n",
    "        \n",
    "        duration = time.time() - start_time\n",
    "\n",
    "        # Only record loss and accuracy every 100 generations\n",
    "        if (i+1)%100==0:\n",
    "            i_data.append(i+1)\n",
    "\n",
    "            feed_dict_test = {\n",
    "                x_data: features_test,\n",
    "                y_target: np.transpose([target_test]).ravel(),\n",
    "            }\n",
    "\n",
    "            train_loss_temp = sess.run(loss, feed_dict=feed_dict)\n",
    "            train_loss.append(train_loss_temp)\n",
    "\n",
    "            test_loss_temp = sess.run(loss, feed_dict=feed_dict_test)\n",
    "            test_loss.append(test_loss_temp)\n",
    "\n",
    "            train_acc_temp = sess.run(accuracy, feed_dict=feed_dict)\n",
    "            train_acc.append(train_acc_temp)\n",
    "\n",
    "            test_acc_temp = sess.run(accuracy, feed_dict=feed_dict_test)\n",
    "            test_acc.append(test_acc_temp)\n",
    "            \n",
    "            summary_str = sess.run(summary, feed_dict=feed_dict)\n",
    "            summary_writer.add_summary(summary_str, i)\n",
    "            summary_writer.flush()\n",
    "\n",
    "        if (i+1)%500==0:\n",
    "            acc_and_loss = [i+1, train_loss_temp, test_loss_temp, train_acc_temp, test_acc_temp]\n",
    "            acc_and_loss = [np.round(x,2) for x in acc_and_loss]\n",
    "            print('Generation # {}. Train Loss (Test Loss): {:.2f} ({:.2f}). Train Acc (Test Acc): {:.2f} ({:.2f})'.format(*acc_and_loss))\n",
    "            checkpoint_file = os.path.join(log_dir, 'model.ckpt')\n",
    "            saver.save(sess, checkpoint_file, global_step=i)\n",
    "\n",
    "print(\"Done.\")"
   ]
  },
  {
   "cell_type": "code",
   "execution_count": 339,
   "metadata": {
    "collapsed": false
   },
   "outputs": [
    {
     "name": "stdout",
     "output_type": "stream",
     "text": [
      "Populating the interactive namespace from numpy and matplotlib\n"
     ]
    },
    {
     "data": {
      "image/png": "[encoded data removed]",
      "text/plain": [
       "<matplotlib.figure.Figure at 0x7f95c0d9ff90>"
      ]
     },
     "metadata": {},
     "output_type": "display_data"
    },
    {
     "data": {
      "image/png": "[encoded data removed]",
      "text/plain": [
       "<matplotlib.figure.Figure at 0x7f95a56f6290>"
      ]
     },
     "metadata": {},
     "output_type": "display_data"
    }
   ],
   "source": [
    "# %pylab inline\n",
    "\n",
    "# # Plot loss over time\n",
    "# plt.plot(i_data, train_loss, 'k-', label='Train Loss')\n",
    "# plt.plot(i_data, test_loss, 'r--', label='Test Loss', linewidth=4)\n",
    "# plt.title('Cross Entropy Loss per Generation')\n",
    "# plt.xlabel('Generation')\n",
    "# plt.ylabel('Cross Entropy Loss')\n",
    "# plt.legend(loc='upper right')\n",
    "# plt.show()\n",
    "\n",
    "# # Plot train and test accuracy\n",
    "# plt.plot(i_data, train_acc, 'k-', label='Train Set Accuracy')\n",
    "# plt.plot(i_data, test_acc, 'r--', label='Test Set Accuracy', linewidth=4)\n",
    "# plt.title('Train and Test Accuracy')\n",
    "# plt.xlabel('Generation')\n",
    "# plt.ylabel('Accuracy')\n",
    "# plt.legend(loc='lower right')\n",
    "# plt.show()"
   ]
  }
 ],
 "metadata": {
  "kernelspec": {
   "display_name": "Python 2",
   "language": "python",
   "name": "python2"
  },
  "language_info": {
   "codemirror_mode": {
    "name": "ipython",
    "version": 2
   },
   "file_extension": ".py",
   "mimetype": "text/x-python",
   "name": "python",
   "nbconvert_exporter": "python",
   "pygments_lexer": "ipython2",
   "version": "2.7.13"
  }
 },
 "nbformat": 4,
 "nbformat_minor": 2
}
