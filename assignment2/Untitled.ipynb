{
 "cells": [
  {
   "cell_type": "code",
   "execution_count": 41,
   "metadata": {
    "collapsed": false
   },
   "outputs": [],
   "source": [
    "import numpy as np\n",
    "from operator import itemgetter\n",
    "\n",
    "languages = [\"English\", \"Polish\", \"Spanish\"]\n",
    "\n",
    "probabilities = np.array([\n",
    "    [0.08167, 0.12702, 0.06966, 0.07507, 0.02758, 0.01974, 0.59926],\n",
    "    [0.10503, 0.07352, 0.08328, 0.02445, 0.02062, 0.03206, 0.66104],\n",
    "    [0.11525, 0.12181, 0.06247, 0.08683, 0.02927, 0.01008, 0.57429],\n",
    "])\n",
    "characters = ['a', 'e', 'i', 'o', 'u', 'y']\n",
    "\n",
    "def ppb_of_letter_for_lang(letter, lang):\n",
    "    if letter in characters:\n",
    "        return probabilities[lang][characters.index(letter)]\n",
    "    else:\n",
    "        return probabilities[lang][len(characters)]\n",
    "\n",
    "def ppb_of_letters_log(ppb_of_lang, letter_ppbs):\n",
    "    final_ppb = np.log(ppb_of_lang)\n",
    "    for letter_ppb in letter_ppbs:\n",
    "        final_ppb = final_ppb + np.log(letter_ppb)\n",
    "    return final_ppb\n",
    "\n",
    "def ppb_of_letters_mult(ppb_of_lang, letter_ppbs):\n",
    "    final_ppb = ppb_of_lang\n",
    "    for letter_ppb in letter_ppbs:\n",
    "        final_ppb = final_ppb * letter_ppb\n",
    "    return final_ppb\n",
    "    \n",
    "def ppb_of_word_for_language(word, lang, ppb_of_lang):\n",
    "    # p(D) can be skipped, because it does not change argmax\n",
    "    letter_ppbs = [ ppb_of_letter_for_lang(c, lang) for c in word ]\n",
    "    \n",
    "    return ppb_of_letters_log(ppb_of_lang, letter_ppbs)\n",
    "\n",
    "def analyze_word(word, langs_ppbs):\n",
    "    results = [ (ppb_of_word_for_language(word, li, langs_ppbs[li]), l) for li, l in enumerate(languages) ]\n",
    "    best_result = max(results, key=itemgetter(0))\n",
    "    print \"Best result for word '%s' is %s\" % (word, best_result[1])\n",
    "    for (result, language) in results:\n",
    "        print\"  Result for %s: %f\" % (language, result)"
   ]
  },
  {
   "cell_type": "code",
   "execution_count": 53,
   "metadata": {
    "collapsed": false
   },
   "outputs": [
    {
     "name": "stdout",
     "output_type": "stream",
     "text": [
      "Best result for word 'bull' is Polish\n",
      "  Result for English: -6.225456\n",
      "  Result for Polish: -6.221929\n",
      "  Result for Spanish: -6.293667\n",
      "Best result for word 'burro' is Spanish\n",
      "  Result for English: -8.814790\n",
      "  Result for Polish: -9.933054\n",
      "  Result for Spanish: -8.737470\n",
      "Best result for word 'kurczak' is Polish\n",
      "  Result for English: -9.754644\n",
      "  Result for Polish: -9.303320\n",
      "  Result for Spanish: -9.563560\n",
      "Best result for word 'pollo' is Spanish\n",
      "  Result for English: -7.813460\n",
      "  Result for Polish: -9.762685\n",
      "  Result for Spanish: -7.650081\n",
      "Best result for word 'litwo, ojczyzno moja, ty jesteś jak zdrowie' is English\n",
      "  Result for English: -53.785919\n",
      "  Result for Polish: -56.261463\n",
      "  Result for Spanish: -55.333975\n",
      "Best result for word 'dinero' is English\n",
      "  Result for English: -9.951665\n",
      "  Result for Polish: -11.147305\n",
      "  Result for Spanish: -10.084639\n",
      "Best result for word 'mama just killed a man put a gun against his head' is Polish\n",
      "  Result for English: -60.928333\n",
      "  Result for Polish: -57.108254\n",
      "  Result for Spanish: -59.809680\n",
      "Best result for word 'maradona es mas grande que pele' is Spanish\n",
      "  Result for English: -39.850142\n",
      "  Result for Polish: -40.874644\n",
      "  Result for Spanish: -38.941125\n"
     ]
    }
   ],
   "source": [
    "# 4b\n",
    "\n",
    "words = [\n",
    "    'bull',\n",
    "    'burro',\n",
    "    'kurczak',\n",
    "    'pollo',\n",
    "    'litwo, ojczyzno moja, ty jesteś jak zdrowie',\n",
    "    'dinero',\n",
    "    'mama just killed a man put a gun against his head',\n",
    "    'maradona es mas grande que pele',\n",
    "]\n",
    "\n",
    "langs_ppbs1 = [ 1./3., 1./3., 1./3. ]\n",
    "for word in words:\n",
    "    analyze_word(word, langs_ppbs1)"
   ]
  },
  {
   "cell_type": "code",
   "execution_count": 43,
   "metadata": {
    "collapsed": false
   },
   "outputs": [
    {
     "name": "stdout",
     "output_type": "stream",
     "text": [
      "Best result for word 'bull' is English\n",
      "  Result for English: -5.819991\n",
      "  Result for Polish: -6.732754\n",
      "  Result for Spanish: -6.399027\n",
      "Best result for word 'burro' is English\n",
      "  Result for English: -8.409325\n",
      "  Result for Polish: -10.443880\n",
      "  Result for Spanish: -8.842830\n",
      "Best result for word 'kurczak' is English\n",
      "  Result for English: -9.349179\n",
      "  Result for Polish: -9.814146\n",
      "  Result for Spanish: -9.668920\n",
      "Best result for word 'pollo' is English\n",
      "  Result for English: -7.407995\n",
      "  Result for Polish: -10.273511\n",
      "  Result for Spanish: -7.755441\n",
      "Best result for word 'litwo, ojczyzno moja, ty jesteś jak zdrowie' is English\n",
      "  Result for English: -53.380454\n",
      "  Result for Polish: -56.772289\n",
      "  Result for Spanish: -55.439335\n",
      "Best result for word 'dinero' is English\n",
      "  Result for English: -9.546200\n",
      "  Result for Polish: -11.658130\n",
      "  Result for Spanish: -10.190000\n",
      "Best result for word 'mama just killed a man put a gun against his head' is Polish\n",
      "  Result for English: -60.522868\n",
      "  Result for Polish: -57.619080\n",
      "  Result for Spanish: -59.915040\n",
      "Best result for word 'maradona es mas grande que pele' is Spanish\n",
      "  Result for English: -39.444677\n",
      "  Result for Polish: -41.385470\n",
      "  Result for Spanish: -39.046485\n"
     ]
    }
   ],
   "source": [
    "# 4c\n",
    "langs_ppbs2 = [ 0.5, 0.2, 0.3 ]\n",
    "for word in words:\n",
    "    analyze_word(word, langs_ppbs2)"
   ]
  },
  {
   "cell_type": "code",
   "execution_count": 50,
   "metadata": {
    "collapsed": false
   },
   "outputs": [
    {
     "name": "stdout",
     "output_type": "stream",
     "text": [
      "Best result for word 'wodka' is Spanish\n",
      "  Result for English: -7.729194\n",
      "  Result for Polish: -8.305069\n",
      "  Result for Spanish: -7.366929\n",
      "Best result for word 'zubrowka' is Spanish\n",
      "  Result for English: -12.343978\n",
      "  Result for Polish: -13.014445\n",
      "  Result for Spanish: -12.007363\n",
      "Best result for word 'Bocian to najlepsza wspolczesna wodka, jednak zubrowka to tez jest dobra alternatywa' is Spanish\n",
      "  Result for English: -98.527476\n",
      "  Result for Polish: -100.928096\n",
      "  Result for Spanish: -97.119006\n"
     ]
    }
   ],
   "source": [
    "# 4d\n",
    "# how to find such word - take some language (here: Spanish),\n",
    "#   check the vowels for which it have bigger ppbs than\n",
    "#   other langs (here: a, o, u; e is not that far too)\n",
    "#   and try to find some word using only these vowels\n",
    "analyze_word(\"wodka\", langs_ppbs1)\n",
    "analyze_word(\"zubrowka\", langs_ppbs1)\n",
    "\n",
    "analyze_word(\"Bocian to najlepsza wspolczesna wodka, jednak zubrowka to tez jest dobra alternatywa\", langs_ppbs1)"
   ]
  },
  {
   "cell_type": "code",
   "execution_count": 52,
   "metadata": {
    "collapsed": false
   },
   "outputs": [
    {
     "name": "stdout",
     "output_type": "stream",
     "text": [
      "Best result for word '\n",
      "Litwo! Ojczyzno moja! Ty jesteś jak zdrowie,\n",
      "Ile cię trzeba cenić, ten tylko się dowie,\n",
      "Kto cię stracił. Dziś piękność twą w całej ozdobie\n",
      "Widzę i opisuję, bo tęsknię po tobie\n",
      "Panno święta, co Jasnej bronisz Częstochowy\n",
      "I w Ostrej świecisz Bramie! Ty, co gród zamkowy\n",
      "Nowogródzki ochraniasz z jego wiernym ludem!\n",
      "Jak mnie dziecko do zdrowia powróciłaś cudem,\n",
      "(Gdy od płaczącej matki pod Twoją opiekę\n",
      "Ofiarowany, martwą podniosłem powiekę\n",
      "I zaraz mogłem pieszo do Twych świątyń progu\n",
      "Iść za wrócone życie podziękować Bogu),\n",
      "Tak nas powrócisz cudem na Ojczyzny łono.\n",
      "Tymczasem przenoś moją duszę utęsknioną\n",
      "Do tych pagórków leśnych, do tych łąk zielonych,\n",
      "Szeroko nad błękitnym Niemnem rozciągnionych;\n",
      "Do tych pól malowanych zbożem rozmaitem,\n",
      "Wyzłacanych pszenicą, posrebrzanych żytem;\n",
      "Gdzie bursztynowy świerzop, gryka jak śnieg biała,\n",
      "Gdzie panieńskim rumieńcem dzięcielina pała,\n",
      "A wszystko przepasane jakby wstęgą, miedzą\n",
      "Zieloną, na niej z rzadka ciche grusze siedzą.\n",
      "' is Polish\n",
      "  Result for English: -1141.517713\n",
      "  Result for Polish: -1137.360749\n",
      "  Result for Spanish: -1177.141729\n"
     ]
    }
   ],
   "source": [
    "inwokacja = \"\"\"\n",
    "Litwo! Ojczyzno moja! Ty jesteś jak zdrowie,\n",
    "Ile cię trzeba cenić, ten tylko się dowie,\n",
    "Kto cię stracił. Dziś piękność twą w całej ozdobie\n",
    "Widzę i opisuję, bo tęsknię po tobie\n",
    "Panno święta, co Jasnej bronisz Częstochowy\n",
    "I w Ostrej świecisz Bramie! Ty, co gród zamkowy\n",
    "Nowogródzki ochraniasz z jego wiernym ludem!\n",
    "Jak mnie dziecko do zdrowia powróciłaś cudem,\n",
    "(Gdy od płaczącej matki pod Twoją opiekę\n",
    "Ofiarowany, martwą podniosłem powiekę\n",
    "I zaraz mogłem pieszo do Twych świątyń progu\n",
    "Iść za wrócone życie podziękować Bogu),\n",
    "Tak nas powrócisz cudem na Ojczyzny łono.\n",
    "Tymczasem przenoś moją duszę utęsknioną\n",
    "Do tych pagórków leśnych, do tych łąk zielonych,\n",
    "Szeroko nad błękitnym Niemnem rozciągnionych;\n",
    "Do tych pól malowanych zbożem rozmaitem,\n",
    "Wyzłacanych pszenicą, posrebrzanych żytem;\n",
    "Gdzie bursztynowy świerzop, gryka jak śnieg biała,\n",
    "Gdzie panieńskim rumieńcem dzięcielina pała,\n",
    "A wszystko przepasane jakby wstęgą, miedzą\n",
    "Zieloną, na niej z rzadka ciche grusze siedzą.\n",
    "\"\"\"\n",
    "\n",
    "analyze_word(inwokacja, langs_ppbs1)\n",
    "#analyze_word(inwokacja, langs_ppbs2)"
   ]
  },
  {
   "cell_type": "markdown",
   "metadata": {},
   "source": [
    "# Problem 7\n"
   ]
  },
  {
   "cell_type": "code",
   "execution_count": 70,
   "metadata": {
    "collapsed": false
   },
   "outputs": [
    {
     "name": "stdout",
     "output_type": "stream",
     "text": [
      "Length of the recording: 30\n"
     ]
    }
   ],
   "source": [
    "import numpy as np\n",
    "\n",
    "figures = ['P', 'R', 'S']\n",
    "\n",
    "recording = \"PPRSSRSPPRSPRRSPPPSSPRSPSPSRSP\"\n",
    "\n",
    "guesses = np.array([ figures.index(c) for c in recording ])\n",
    "\n",
    "print \"Length of the recording: %d\" % len(recording)"
   ]
  },
  {
   "cell_type": "code",
   "execution_count": 82,
   "metadata": {
    "collapsed": false
   },
   "outputs": [
    {
     "data": {
      "text/plain": [
       "array([[ 0.36363636,  0.36363636,  0.27272727],\n",
       "       [ 0.        ,  0.14285714,  0.85714286],\n",
       "       [ 0.63636364,  0.18181818,  0.18181818]])"
      ]
     },
     "execution_count": 82,
     "metadata": {},
     "output_type": "execute_result"
    }
   ],
   "source": [
    "ppbs1 = np.zeros((3,3))\n",
    "\n",
    "for i in range(len(guesses) - 1):\n",
    "    ppbs1[guesses[i]][guesses[i+1]] += 1\n",
    "\n",
    "ppbs1 = (ppbs1.T / np.sum(ppbs1, axis=0)).T\n",
    "\n",
    "ppbs1"
   ]
  },
  {
   "cell_type": "code",
   "execution_count": 88,
   "metadata": {
    "collapsed": false
   },
   "outputs": [
    {
     "data": {
      "text/plain": [
       "array([ 0.4       ,  0.23333333,  0.36666667])"
      ]
     },
     "execution_count": 88,
     "metadata": {},
     "output_type": "execute_result"
    }
   ],
   "source": [
    "ppbs2 = np.zeros(3)\n",
    "\n",
    "for c in guesses:\n",
    "    ppbs2[c] += 1\n",
    "\n",
    "ppbs2 = ppbs2 / np.sum(ppbs2)\n",
    "ppbs2"
   ]
  },
  {
   "cell_type": "code",
   "execution_count": 106,
   "metadata": {
    "collapsed": false
   },
   "outputs": [
    {
     "name": "stdout",
     "output_type": "stream",
     "text": [
      "Final result:\n",
      "  Counter1 = 328675\n",
      "  Counter2 = 323698\n",
      "  Ties = 347627\n"
     ]
    }
   ],
   "source": [
    "import numpy.random\n",
    "\n",
    "class Robot1:\n",
    "    def __init__(self, configuration):\n",
    "        self.last_choice = None\n",
    "        self.configuration = configuration\n",
    "    \n",
    "    def get_next(self):\n",
    "        if self.last_choice == None:\n",
    "            r = np.random.choice(len(figures))\n",
    "            self.last_choice = r\n",
    "            return r\n",
    "        else:\n",
    "            r = np.random.choice(len(figures), p = self.configuration[self.last_choice])\n",
    "            self.last_choice = r\n",
    "            return r\n",
    "\n",
    "class Robot2:\n",
    "    def __init__(self, configuration):\n",
    "        self.configuration = configuration\n",
    "    \n",
    "    def get_next(self):\n",
    "        return np.random.choice(len(figures), p = self.configuration)\n",
    "    \n",
    "\n",
    "rules = {\n",
    "    \"P\": { \"P\": 0, \"R\": 1, \"S\": -1 },\n",
    "    \"R\": { \"P\": -1, \"R\": 0, \"S\": 1 },\n",
    "    \"S\": { \"P\": 1, \"R\": -1, \"S\": 0 },\n",
    "}\n",
    "# 1 if r1 wins with r2\n",
    "# 0 if tie\n",
    "# -1 if r1 loses with r2\n",
    "def wins(r1, r2):\n",
    "    return rules[figures[r1]][figures[r2]]\n",
    "\n",
    "rounds = 1000000\n",
    "\n",
    "robot1 = Robot1(ppbs1)\n",
    "robot2 = Robot2(ppbs2)\n",
    "counters = np.zeros(3)\n",
    "for i in range(rounds):\n",
    "    r1 = robot1.get_next()\n",
    "    r2 = robot2.get_next()\n",
    "    #print \"%c vs %c\" % (figures[r1], figures[r2])\n",
    "    result = wins(r1, r2)\n",
    "    counters[result + 1] += 1\n",
    "        \n",
    "print \"Final result:\"\n",
    "print \"  Counter1 = %d\" % counters[2]\n",
    "print \"  Counter2 = %d\" % counters[0]\n",
    "print \"  Ties = %d\" % counters[1]\n",
    "    "
   ]
  },
  {
   "cell_type": "code",
   "execution_count": null,
   "metadata": {
    "collapsed": true
   },
   "outputs": [],
   "source": []
  }
 ],
 "metadata": {
  "kernelspec": {
   "display_name": "Python 2",
   "language": "python",
   "name": "python2"
  },
  "language_info": {
   "codemirror_mode": {
    "name": "ipython",
    "version": 2
   },
   "file_extension": ".py",
   "mimetype": "text/x-python",
   "name": "python",
   "nbconvert_exporter": "python",
   "pygments_lexer": "ipython2",
   "version": "2.7.13"
  }
 },
 "nbformat": 4,
 "nbformat_minor": 2
}
